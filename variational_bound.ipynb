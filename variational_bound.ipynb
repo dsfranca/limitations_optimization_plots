{
 "cells": [
  {
   "cell_type": "markdown",
   "metadata": {},
   "source": [
    "# Worked through example of the variational bound\n",
    "\n",
    "We will nox exemplify how we produced Figure 3 in [Limitations of optimization algorithms on noisy quantum devices](https://arxiv.org/abs/2009.05532). At the end of this notebook we will produce the plot showed there. \n",
    "We will exemplify our bound to compute the MAXCUT of a graph from the [GSet random graphs](https://www.cise.ufl.edu/research/sparse/matrices/Gset/). To download the instances in a format tailored for our code, please go [here](http://web.stanford.edu/~yyye/yyye/Gset/G12).\n",
    "The Gset of instances is commonly used to benchmark the performance of algorithms for MAX-CUT. We chose the G12 instance, which corresponds to a graph with $n=800$ vertices and $1600$ edges. This results on an average degree of $\\sim 4$. We start by importing the adjacency matrix of the graph, G12.csv. We saved it in this folder for convenience. This is done by the function import_instance. Note that we multiply the weights by 0.5 for normalization purposes later."
   ]
  },
  {
   "cell_type": "code",
   "execution_count": 1,
   "metadata": {},
   "outputs": [],
   "source": [
    "\n",
    "from scipy.sparse import csr_matrix, find\n",
    "import random\n",
    "import numpy as np\n",
    "import time\n",
    "import itertools\n",
    "import pandas as pd\n",
    "\n",
    "def import_instance(name_file):\n",
    "    \n",
    "    \n",
    "    \n",
    "    file1 = open(name_file, 'r') \n",
    "    Lines = file1.readlines()\n",
    "    line0=Lines[0].split()\n",
    "    n=int(line0[0])\n",
    "    m=len(Lines)\n",
    "    rows=[]\n",
    "    columns=[]\n",
    "    entries=[]\n",
    "    for k in range(1,m):\n",
    "        info_entry=Lines[k].split()\n",
    "        rows.append(int(info_entry[0])-1)\n",
    "        rows.append(int(info_entry[1])-1)\n",
    "        columns.append(int(info_entry[1])-1)\n",
    "        columns.append(int(info_entry[0])-1)\n",
    "        entries.append(0.5*int(info_entry[2]))\n",
    "        entries.append(0.5*int(info_entry[2]))\n",
    "    A=csr_matrix((entries, (rows, columns)))\n",
    "    return A\n",
    "        \n",
    "A=import_instance('G12.csv')"
   ]
  },
  {
   "cell_type": "markdown",
   "metadata": {},
   "source": [
    "## From MAX-CUT to Ising models\n",
    "It is well known that it is possible to recast the MAX-CUT problem into finding the ground state energy of an Ising model. Let us briefly recall how this is done to also ensure we have all right normalizations in place and know how to convert MAX-CUT values to Ising energies.\n",
    "\n",
    "Given a weighted graph $G=(V,E)$ on $n$ vertices with adjacency matrix $A$, the MAX-CUT of $G$ is defined as the following optimization problem:\n",
    "\\begin{align*}\n",
    "\\max\\limits_{s\\in\\{-1,1\\}^n}\\frac{1}{2}\\sum\\limits_{1\\leq i<j\\leq n}A_{ij}(1-s_is_j)\n",
    "\\end{align*}\n",
    "This is a widely studied problem, as it is known to be NP-complete. \n",
    "It is then clear that it can be equivalently recast as:\n",
    "\\begin{align*}\n",
    "\\frac{1}{2}\\sum\\limits_{1\\leq i<j\\leq n}A_{ij}+\\frac{1}{2}\\max\\limits_{s\\in\\{-1,1\\}^n}\\sum\\limits_{1\\leq i<j\\leq n}-A_{ij}s_is_j=\\\\\n",
    "\\frac{1}{2}\\sum\\limits_{1\\leq i<j\\leq n}A_{ij}-\\frac{1}{2}\\min\\limits_{s\\in\\{-1,1\\}^n}\\sum\\limits_{1\\leq i<j\\leq n}A_{ij}s_is_j\n",
    "\\end{align*}\n",
    "Note that the  first summand in the equation above, $\\sum\\limits_{1\\leq i<j\\leq n}A_{ij}$, is just a constant. Thus, solving MAX-CUT is equivalent to fiding the ground state energy of the Ising Hamiltonian:\n",
    "\\begin{align*}\n",
    "H_I=\\sum\\limits_{1\\leq i<j\\leq n}A_{ij}Z_iZ_j.\n",
    "\\end{align*}\n",
    "Moreover, if $C$ is the value achieved by a solution to MAX-CUT, the corresponding value for the energy $E$ of $H_I$ is given by:\n",
    "\\begin{align*}\n",
    "\\frac{1}{2}\\sum\\limits_{1\\leq i<j\\leq n}A_{ij}-2C.\n",
    "\\end{align*}\n",
    "\n",
    "Now that we know how to convert MAX-CUT into Ising models, it is time to compute partition functions to apply our variational bound!\n",
    "Recall that the variational bound asserts that for any quantum state $\\rho$:\n",
    "\\begin{align*}\n",
    "\\operatorname{tr}(H_I\\rho)\\geq \\sup\\limits_{\\beta\\in(0,\\beta_c)}\\beta^{-1}(n-\\log(\\mathcal{Z}_\\beta)-D(\\rho\\|I/2^n)).\n",
    "\\end{align*}\n",
    "Here $\\log(\\mathcal{Z}_\\beta)$ is the log-partition function of $H_I$ at inverse temperature $\\beta$.\n",
    "\n",
    "We will now compute the partition functions to evaluate the bound.\n",
    "\n",
    "The first step is to compute the operator norm of this adjacency matrix. This allows us to compute up to which inverse temperature $\\beta_c$ we know it to be efficient to estimate the partition function as per the results of [Theorem 11 of the linked reference](https://arxiv.org/pdf/2007.08200.pdf). "
   ]
  },
  {
   "cell_type": "code",
   "execution_count": 8,
   "metadata": {},
   "outputs": [
    {
     "name": "stdout",
     "output_type": "stream",
     "text": [
      "We can reliably go until beta 0.281205921861218\n"
     ]
    }
   ],
   "source": [
    "from numpy import linalg as LA\n",
    "[eigs,v]=LA.eig(A.todense())\n",
    "norm=max(np.abs(eigs))\n",
    "print(\"We can reliably go until beta\",1/(2*norm))"
   ]
  },
  {
   "cell_type": "markdown",
   "metadata": {},
   "source": [
    "After that we estimate the shifted log-partition function $\\log(\\mathcal{Z}_\\beta)-n$ of the Hamiltonian:\n",
    "\\begin{align*}\n",
    "H=\\sum\\limits_{i,j}A_{i,j}Z_iZ_j\n",
    "\\end{align*}\n",
    "for $\\beta\\in(0,\\beta_c)$, where $\\beta_c$ was determined above.\n",
    "As this is a computationally expensive step, so we will just import a list of $\\beta$ and the corresponding value of $\\log(\\mathcal{Z}_\\beta)-n$. The functions for estimating these partition functions are available in the repository."
   ]
  },
  {
   "cell_type": "code",
   "execution_count": 9,
   "metadata": {},
   "outputs": [],
   "source": [
    "results_part=pd.read_csv('results_part12.csv',header=None)\n",
    "schedule=pd.read_csv('schedule12.csv',header=None)\n",
    "results_part=results_part.values\n",
    "schedule=schedule.values"
   ]
  },
  {
   "cell_type": "markdown",
   "metadata": {},
   "source": [
    "We will now compute the term \n",
    "\\begin{align*}\n",
    "-\\beta^{-1}\\log\\left(\\frac{\\mathcal{Z}_\\beta}{2^{n}}\\right)\n",
    "\\end{align*}\n",
    "for the various values of beta we have:"
   ]
  },
  {
   "cell_type": "code",
   "execution_count": 10,
   "metadata": {},
   "outputs": [],
   "source": [
    "def energy_estimates(partitions,schedule):\n",
    "    energies=[]\n",
    "    for k in range(1,len(partitions)):\n",
    "        energies.append(-partitions[k]/schedule[k])\n",
    "    return energies\n",
    "\n",
    "energies=energy_estimates(results_part,schedule)"
   ]
  },
  {
   "cell_type": "markdown",
   "metadata": {},
   "source": [
    "We are now able to plot an approximation to the curve:\n",
    "\\begin{align*}\n",
    "f(x)=\\sup\\limits_{\\beta\\in(0,\\beta_c)}\\beta^{-1}\\left(\\log\\left(\\frac{\\mathcal{Z}_\\beta}{2^{n}}\\right)-n\\log(2)x\\right)\n",
    "\\end{align*}\n",
    "As shown in Prop. 2 of [Limitations of optimization algorithms on noisy quantum devices](https://arxiv.org/abs/2009.05532), the equation above gives a lower-bound on the output of the energy of a state $\\rho$ with relative entropy density $x=1-n^{-1}S(\\rho)$ under the Hamiltonian $H$. Let us implement a function that computes $f(x)$ and plot the curve:\n"
   ]
  },
  {
   "cell_type": "code",
   "execution_count": 11,
   "metadata": {},
   "outputs": [
    {
     "data": {
      "text/plain": [
       "<matplotlib.legend.Legend at 0x7ffbb2f291d0>"
      ]
     },
     "execution_count": 11,
     "metadata": {},
     "output_type": "execute_result"
    }
   ],
   "source": [
    "def lower_bound(x,n,first_term,betas):\n",
    "    lower_bounds=[]\n",
    "\n",
    "    #the first element of the list will usually be beta=0, so we exclude it\n",
    "    for k in range(1,len(first_term)):\n",
    "        new_value=first_term[k]-(1/betas[k])*(np.log(2)*n*x)\n",
    "        lower_bounds.append(new_value)\n",
    "        \n",
    "    return max(lower_bounds)/n\n",
    "\n",
    "import matplotlib as mpl\n",
    "import matplotlib.pyplot as plt\n",
    "\n",
    "xs=np.linspace(0,1,100)\n",
    "lower_bounds=[]\n",
    "for x in xs:\n",
    "    lower_bounds.append(lower_bound(x,800,energies,schedule))\n",
    "\n",
    "plt.plot(xs,lower_bounds,'r',label=\"Lower bound on output\")\n",
    "plt.title(\"Variational bound for instance G12\")\n",
    "plt.xlabel('Relative entropy density')\n",
    "plt.ylabel('Energy density')\n",
    "plt.legend()    \n",
    "    \n"
   ]
  },
  {
   "cell_type": "markdown",
   "metadata": {},
   "source": [
    "We will now compare it to some values reported in the literature for the same instance and estimate the relative entropy density at which a noisy quantum device loses any potential advantage against said methods. We start with semidefinite programming (SDP) methods. In [Scalable Semidefinite Programming](https://arxiv.org/pdf/1912.02949.pdf), Table 3, the authors report a cut value of $524$ for G12 by running an SDP for 0.03s on a laptop.  We will first convert it to a corresponding energy of the Ising Hamiltonian for this  instance. After that, we will this point on the graph and shade the relative entropy densities for which it is not possible to obtain better expected values:"
   ]
  },
  {
   "cell_type": "code",
   "execution_count": 12,
   "metadata": {},
   "outputs": [
    {
     "name": "stdout",
     "output_type": "stream",
     "text": [
      "The maximal relative entropy density before we lose advantage compared to SDPs is 0.6363636363636365\n"
     ]
    },
    {
     "data": {
      "image/png": "[encoded data removed]",
      "text/plain": [
       "<Figure size 432x288 with 1 Axes>"
      ]
     },
     "metadata": {
      "needs_background": "light"
     },
     "output_type": "display_data"
    }
   ],
   "source": [
    "#computes the index for relative nentropy density when the lower-bound is lower then a given value\n",
    "def find_crossover(results,value):\n",
    "    k=0\n",
    "    while (results[k]>value):\n",
    "        k+=1\n",
    "    return k\n",
    "\n",
    "SDP_value=524\n",
    "sum_A=np.sum(A)\n",
    "energy_density=(sum_A-2*SDP_value)/800\n",
    "k_SDP=find_crossover(lower_bounds,energy_density)\n",
    "#convert lowerbounds to 1 dimension array\n",
    "lower_bounds2=[]\n",
    "for k in range(0,len(lower_bounds)):\n",
    "    lower_bounds2.append(lower_bounds[k][0])\n",
    "\n",
    "plt.fill_between(xs[0:k_SDP], lower_bounds2[0:k_SDP],alpha=1/5,color='m', edgecolor=None)\n",
    "plt.scatter(xs[k_SDP],energy_density,color='orange',label=\"SDP\")\n",
    "\n",
    "plt.plot(xs,lower_bounds,'r',label=\"Lower bound on output\")\n",
    "plt.title(\"Variational bound for benchmark instance G12\")\n",
    "plt.xlabel('Relative entropy density')\n",
    "plt.ylabel('Energy density')\n",
    "plt.legend()    \n",
    "print(\"The maximal relative entropy density before we lose advantage compared to SDPs is\",xs[k_SDP])    "
   ]
  },
  {
   "cell_type": "markdown",
   "metadata": {},
   "source": [
    "But we can also compare the value to heuristic solvers. To the best of our knowledge, the best value known for this instance is $556$ (see [here](https://medium.com/toshiba-sbm/benchmarking-the-max-cut-problem-on-the-simulated-bifurcation-machine-e26e1127c0b0))."
   ]
  },
  {
   "cell_type": "code",
   "execution_count": 14,
   "metadata": {},
   "outputs": [
    {
     "name": "stdout",
     "output_type": "stream",
     "text": [
      "The maximal relative entropy density before we lose advantage compared to heuristic methods is 0.7070707070707072\n"
     ]
    },
    {
     "data": {
      "image/png": "[encoded data removed]",
      "text/plain": [
       "<Figure size 432x288 with 1 Axes>"
      ]
     },
     "metadata": {
      "needs_background": "light"
     },
     "output_type": "display_data"
    }
   ],
   "source": [
    "SDP_value=524\n",
    "sum_A=np.sum(A)\n",
    "energy_density=(sum_A-2*SDP_value)/800\n",
    "k_SDP=find_crossover(lower_bounds,energy_density)\n",
    "#convert lowerbounds to 1 dimension array\n",
    "lower_bounds2=[]\n",
    "for k in range(0,len(lower_bounds)):\n",
    "    lower_bounds2.append(lower_bounds[k][0])\n",
    "\n",
    "plt.fill_between(xs[0:k_SDP], lower_bounds2[0:k_SDP],alpha=1/5,color='m', edgecolor=None)\n",
    "plt.scatter(xs[k_SDP],energy_density,color='orange',label=\"SDP\")\n",
    "\n",
    "\n",
    "\n",
    "\n",
    "\n",
    "\n",
    "heuristic_value=556\n",
    "energy_density_heuristic=(sum_A-2*heuristic_value)/800\n",
    "k_heuristic=find_crossover(lower_bounds,energy_density_heuristic)\n",
    "\n",
    "\n",
    "plt.fill_between(xs[0:k_heuristic], lower_bounds2[0:k_heuristic],alpha=1/5,color='blue', edgecolor=None)\n",
    "plt.scatter(xs[k_heuristic],energy_density_heuristic,color='blue',label=\"Heuristic\")\n",
    "\n",
    "plt.plot(xs,lower_bounds,'r',label=\"Lower bound on output\")\n",
    "plt.title(\"Variational bound for benchmark instance G12\")\n",
    "plt.xlabel('Relative entropy density')\n",
    "plt.ylabel('Energy density')\n",
    "plt.legend()   \n",
    "plt.savefig('lower_bound_plot.pdf')\n",
    "print(\"The maximal relative entropy density before we lose advantage compared to heuristic methods is\",xs[k_heuristic])"
   ]
  },
  {
   "cell_type": "markdown",
   "metadata": {},
   "source": [
    "The SDP performs pretty well compared to heuristic methods, as we see. But we conclude that the noisy device loses advantage under $1$-qubit depolarizing noise with probability $p$ at depths\n",
    "\\begin{align*}\n",
    "D=-\\frac{\\log(0.70)}{2p}\\simeq \\frac{0.18}{p}.\n",
    "\\end{align*}"
   ]
  },
  {
   "cell_type": "markdown",
   "metadata": {},
   "source": [
    "Finally, we will also plot the value achieved by simulated annealing for inverse temperatures in the polynomial-time range. Although the performance of this method to obtain solutions is worse than other polynomial time methods methods like SDPs, it is fairly universal (in the sense that it can be applied to a larger variety of problems other than MAX-CUT) and allows for analytical results on when we lose advantage. \n",
    "\n",
    "See our paper for more details! Here we will import the energy value we obtained with the Monte Carlo sampler you find in the repository."
   ]
  },
  {
   "cell_type": "code",
   "execution_count": 15,
   "metadata": {},
   "outputs": [
    {
     "name": "stdout",
     "output_type": "stream",
     "text": [
      "The maximal relative entropy density before we lose advantage compared to annealing methods is 0.37373737373737376\n"
     ]
    },
    {
     "data": {
      "image/png": "[encoded data removed]",
      "text/plain": [
       "<Figure size 432x288 with 1 Axes>"
      ]
     },
     "metadata": {
      "needs_background": "light"
     },
     "output_type": "display_data"
    }
   ],
   "source": [
    "SDP_value=524\n",
    "sum_A=np.sum(A)\n",
    "energy_density=(sum_A-2*SDP_value)/800\n",
    "k_SDP=find_crossover(lower_bounds,energy_density)\n",
    "#convert lowerbounds to 1 dimension array\n",
    "lower_bounds2=[]\n",
    "for k in range(0,len(lower_bounds)):\n",
    "    lower_bounds2.append(lower_bounds[k][0])\n",
    "\n",
    "plt.fill_between(xs[0:k_SDP], lower_bounds2[0:k_SDP],alpha=1/5,color='m', edgecolor=None)\n",
    "plt.scatter(xs[k_SDP],energy_density,color='orange',label=\"SDP\")\n",
    "\n",
    "\n",
    "\n",
    "\n",
    "\n",
    "\n",
    "heuristic_value=556\n",
    "energy_density_heuristic=(sum_A-2*heuristic_value)/800\n",
    "k_heuristic=find_crossover(lower_bounds,energy_density_heuristic)\n",
    "\n",
    "plt.fill_between(xs[0:k_heuristic], lower_bounds2[0:k_heuristic],alpha=1/5,color='blue', edgecolor=None)\n",
    "plt.scatter(xs[k_heuristic],energy_density_heuristic,color='blue',label=\"Heuristic\")\n",
    "\n",
    "energy_density_annealing=-791/800\n",
    "k_annealing=find_crossover(lower_bounds,energy_density_annealing)\n",
    "\n",
    "\n",
    "\n",
    "\n",
    "plt.fill_between(xs[0:k_annealing], lower_bounds2[0:k_annealing],alpha=1/5,color='green', edgecolor=None)\n",
    "plt.scatter(xs[k_annealing],energy_density_annealing,color='green',label=\"Annealling\")\n",
    "\n",
    "plt.plot(xs,lower_bounds,'r',label=\"Lower bound on output\")\n",
    "plt.title(\"Variational bound for benchmark instance G12\")\n",
    "plt.xlabel('Relative entropy density')\n",
    "plt.ylabel('Energy density')\n",
    "plt.legend()   \n",
    "plt.savefig('lower_bound_plot.pdf')\n",
    "print(\"The maximal relative entropy density before we lose advantage compared to annealing methods is\",xs[k_annealing])"
   ]
  },
  {
   "cell_type": "code",
   "execution_count": null,
   "metadata": {},
   "outputs": [],
   "source": []
  }
 ],
 "metadata": {
  "kernelspec": {
   "display_name": "Python 3",
   "language": "python",
   "name": "python3"
  },
  "language_info": {
   "codemirror_mode": {
    "name": "ipython",
    "version": 3
   },
   "file_extension": ".py",
   "mimetype": "text/x-python",
   "name": "python",
   "nbconvert_exporter": "python",
   "pygments_lexer": "ipython3",
   "version": "3.7.4"
  }
 },
 "nbformat": 4,
 "nbformat_minor": 2
}
